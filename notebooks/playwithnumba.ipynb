{
 "cells": [
  {
   "cell_type": "markdown",
   "metadata": {},
   "source": [
    "# Play with simple stencil and numba"
   ]
  },
  {
   "cell_type": "code",
   "execution_count": 2,
   "metadata": {},
   "outputs": [],
   "source": [
    "import numpy as np"
   ]
  },
  {
   "cell_type": "code",
   "execution_count": 4,
   "metadata": {},
   "outputs": [],
   "source": [
    "N = 51 #number of grid points\n",
    "dt = 1.e-4 #time step\n",
    "L = float(1) #size of grid\n",
    "nsteps = 2000 #number of time steps\n",
    "dx = L/(N-1) #grid spacing\n",
    "nplot = 20 #number of timesteps before plotting\n",
    "\n",
    "r = dt/dx**2 #assuming heat diffusion coefficient == 1\n",
    "\n",
    "#initialize matrices A, B and b array\n",
    "A = np.zeros((N-2,N-2))\n",
    "B = np.zeros((N-2,N-2))\n",
    "b = np.zeros((N-2))\n",
    "#define matrices A, B and b array\n",
    "for i in range(N-2):\n",
    "    if i==0:\n",
    "        A[i,:] = [2+2*r if j==0 else (-r) if j==1 else 0 for j in range(N-2)]\n",
    "        B[i,:] = [2-2*r if j==0 else r if j==1 else 0 for j in range(N-2)]\n",
    "        b[i] = 0. #boundary condition at i=1\n",
    "    elif i==N-3:\n",
    "        A[i,:] = [-r if j==N-4 else 2+2*r if j==N-3 else 0 for j in range(N-2)]\n",
    "        B[i,:] = [r if j==N-4 else 2-2*r if j==N-3 else 0 for j in range(N-2)]\n",
    "        b[i] = 0. #boundary condition at i=N\n",
    "    else:\n",
    "        A[i,:] = [-r if j==i-1 or j==i+1 else 2+2*r if j==i else 0 for j in range(N-2)]\n",
    "        B[i,:] = [r if j==i-1 or j==i+1 else 2-2*r if j==i else 0 for j in range(N-2)]\n"
   ]
  },
  {
   "cell_type": "code",
   "execution_count": 9,
   "metadata": {},
   "outputs": [
    {
     "data": {
      "text/plain": [
       "array([[ 2.5 , -0.25,  0.  , ...,  0.  ,  0.  ,  0.  ],\n",
       "       [-0.25,  2.5 , -0.25, ...,  0.  ,  0.  ,  0.  ],\n",
       "       [ 0.  , -0.25,  2.5 , ...,  0.  ,  0.  ,  0.  ],\n",
       "       ...,\n",
       "       [ 0.  ,  0.  ,  0.  , ...,  2.5 , -0.25,  0.  ],\n",
       "       [ 0.  ,  0.  ,  0.  , ..., -0.25,  2.5 , -0.25],\n",
       "       [ 0.  ,  0.  ,  0.  , ...,  0.  , -0.25,  2.5 ]])"
      ]
     },
     "execution_count": 9,
     "metadata": {},
     "output_type": "execute_result"
    }
   ],
   "source": [
    "A"
   ]
  },
  {
   "cell_type": "code",
   "execution_count": 6,
   "metadata": {},
   "outputs": [
    {
     "data": {
      "text/plain": [
       "array([[1.5 , 0.25, 0.  , ..., 0.  , 0.  , 0.  ],\n",
       "       [0.25, 1.5 , 0.25, ..., 0.  , 0.  , 0.  ],\n",
       "       [0.  , 0.25, 1.5 , ..., 0.  , 0.  , 0.  ],\n",
       "       ...,\n",
       "       [0.  , 0.  , 0.  , ..., 1.5 , 0.25, 0.  ],\n",
       "       [0.  , 0.  , 0.  , ..., 0.25, 1.5 , 0.25],\n",
       "       [0.  , 0.  , 0.  , ..., 0.  , 0.25, 1.5 ]])"
      ]
     },
     "execution_count": 6,
     "metadata": {},
     "output_type": "execute_result"
    }
   ],
   "source": [
    "B"
   ]
  }
 ],
 "metadata": {
  "kernelspec": {
   "display_name": "Python 3",
   "language": "python",
   "name": "python3"
  },
  "language_info": {
   "codemirror_mode": {
    "name": "ipython",
    "version": 3
   },
   "file_extension": ".py",
   "mimetype": "text/x-python",
   "name": "python",
   "nbconvert_exporter": "python",
   "pygments_lexer": "ipython3",
   "version": "3.7.2"
  }
 },
 "nbformat": 4,
 "nbformat_minor": 4
}
