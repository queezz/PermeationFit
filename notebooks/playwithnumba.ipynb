{
 "cells": [
  {
   "cell_type": "markdown",
   "metadata": {},
   "source": [
    "# Play with simple stencil and numba"
   ]
  },
  {
   "cell_type": "code",
   "execution_count": 1,
   "metadata": {},
   "outputs": [
    {
     "name": "stdout",
     "output_type": "stream",
     "text": [
      "Populating the interactive namespace from numpy and matplotlib\n"
     ]
    }
   ],
   "source": [
    "%pylab inline"
   ]
  },
  {
   "cell_type": "code",
   "execution_count": 2,
   "metadata": {},
   "outputs": [],
   "source": [
    "import numpy as np"
   ]
  },
  {
   "cell_type": "code",
   "execution_count": 3,
   "metadata": {},
   "outputs": [],
   "source": [
    "N = 51 #number of grid points\n",
    "dt = 1.e-4 #time step\n",
    "L = float(1) #size of grid\n",
    "nsteps = 2000 #number of time steps\n",
    "dx = L/(N-1) #grid spacing\n",
    "nplot = 20 #number of timesteps before plotting\n",
    "\n",
    "r = dt/dx**2 #assuming heat diffusion coefficient == 1\n",
    "\n",
    "#initialize matrices A, B and b array\n",
    "A = np.zeros((N-2,N-2))\n",
    "B = np.zeros((N-2,N-2))\n",
    "b = np.zeros((N-2))\n",
    "#define matrices A, B and b array\n",
    "for i in range(N-2):\n",
    "    if i==0:\n",
    "        A[i,:] = [2+2*r if j==0 else (-r) if j==1 else 0 for j in range(N-2)]\n",
    "        B[i,:] = [2-2*r if j==0 else r if j==1 else 0 for j in range(N-2)]\n",
    "        b[i] = 0. #boundary condition at i=1\n",
    "    elif i==N-3:\n",
    "        A[i,:] = [-r if j==N-4 else 2+2*r if j==N-3 else 0 for j in range(N-2)]\n",
    "        B[i,:] = [r if j==N-4 else 2-2*r if j==N-3 else 0 for j in range(N-2)]\n",
    "        b[i] = 0. #boundary condition at i=N\n",
    "    else:\n",
    "        A[i,:] = [-r if j==i-1 or j==i+1 else 2+2*r if j==i else 0 for j in range(N-2)]\n",
    "        B[i,:] = [r if j==i-1 or j==i+1 else 2-2*r if j==i else 0 for j in range(N-2)]\n"
   ]
  },
  {
   "cell_type": "code",
   "execution_count": 4,
   "metadata": {},
   "outputs": [],
   "source": [
    "x = np.linspace(0,1,N)\n",
    "u = np.asarray([np.sin(xx*np.pi) for xx in x])\n",
    "bb = B.dot(u[1:-1])"
   ]
  },
  {
   "cell_type": "code",
   "execution_count": 5,
   "metadata": {},
   "outputs": [],
   "source": [
    "# %%timeit\n",
    "u[1:-1] = np.linalg.solve(A,bb)"
   ]
  },
  {
   "cell_type": "code",
   "execution_count": 6,
   "metadata": {},
   "outputs": [],
   "source": [
    "from numba import njit"
   ]
  },
  {
   "cell_type": "code",
   "execution_count": 7,
   "metadata": {},
   "outputs": [],
   "source": [
    "def test(A,B,u):   \n",
    "    for i in range(100):\n",
    "        bb = B.dot(u[1:-1])\n",
    "        u[1:-1] = np.linalg.solve(A,bb)\n",
    "    return u"
   ]
  },
  {
   "cell_type": "code",
   "execution_count": 8,
   "metadata": {},
   "outputs": [],
   "source": [
    "testjit = njit()(test)"
   ]
  },
  {
   "cell_type": "code",
   "execution_count": 9,
   "metadata": {},
   "outputs": [],
   "source": [
    "_ = testjit(A,B,u)"
   ]
  },
  {
   "cell_type": "code",
   "execution_count": 10,
   "metadata": {},
   "outputs": [
    {
     "name": "stdout",
     "output_type": "stream",
     "text": [
      "83.9 ms ± 1.3 ms per loop (mean ± std. dev. of 7 runs, 10 loops each)\n"
     ]
    }
   ],
   "source": [
    "%%timeit\n",
    "nu = test(A,B,u)"
   ]
  },
  {
   "cell_type": "code",
   "execution_count": 11,
   "metadata": {},
   "outputs": [
    {
     "name": "stdout",
     "output_type": "stream",
     "text": [
      "81.7 ms ± 1.13 ms per loop (mean ± std. dev. of 7 runs, 10 loops each)\n"
     ]
    }
   ],
   "source": [
    "%%timeit\n",
    "nu = testjit(A,B,u)"
   ]
  }
 ],
 "metadata": {
  "kernelspec": {
   "display_name": "Python 3",
   "language": "python",
   "name": "python3"
  },
  "language_info": {
   "codemirror_mode": {
    "name": "ipython",
    "version": 3
   },
   "file_extension": ".py",
   "mimetype": "text/x-python",
   "name": "python",
   "nbconvert_exporter": "python",
   "pygments_lexer": "ipython3",
   "version": "3.7.2"
  }
 },
 "nbformat": 4,
 "nbformat_minor": 4
}
