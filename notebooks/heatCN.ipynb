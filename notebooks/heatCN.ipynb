{
 "cells": [
  {
   "cell_type": "markdown",
   "metadata": {},
   "source": [
    "# Heat diffusion with Crank-Nicolson"
   ]
  },
  {
   "cell_type": "code",
   "execution_count": 1,
   "metadata": {},
   "outputs": [
    {
     "name": "stdout",
     "output_type": "stream",
     "text": [
      "Populating the interactive namespace from numpy and matplotlib\n"
     ]
    }
   ],
   "source": [
    "%pylab inline"
   ]
  },
  {
   "cell_type": "code",
   "execution_count": 2,
   "metadata": {},
   "outputs": [],
   "source": [
    "from IPython.display import HTML\n",
    "import numpy as np\n",
    "import matplotlib.pyplot as plt\n",
    "import os, sys,subprocess\n",
    "import matplotlib\n",
    "matplotlib.rc('font', size=18)\n",
    "matplotlib.rc('font', family='Arial')"
   ]
  },
  {
   "cell_type": "code",
   "execution_count": 3,
   "metadata": {},
   "outputs": [
    {
     "data": {
      "text/plain": [
       "0"
      ]
     },
     "execution_count": 3,
     "metadata": {},
     "output_type": "execute_result"
    },
    {
     "data": {
      "text/plain": [
       "<Figure size 432x288 with 0 Axes>"
      ]
     },
     "metadata": {},
     "output_type": "display_data"
    }
   ],
   "source": [
    "#definition of numerical parameters\n",
    "N = 51 #number of grid points\n",
    "dt = 1.e-4 #time step\n",
    "L = float(1) #size of grid\n",
    "nsteps = 2000 #number of time steps\n",
    "dx = L/(N-1) #grid spacing\n",
    "nplot = 20 #number of timesteps before plotting\n",
    "\n",
    "r = dt/dx**2 #assuming heat diffusion coefficient == 1\n",
    "\n",
    "#initialize matrices A, B and b array\n",
    "A = np.zeros((N-2,N-2))\n",
    "B = np.zeros((N-2,N-2))\n",
    "b = np.zeros((N-2))\n",
    "#define matrices A, B and b array\n",
    "for i in range(N-2):\n",
    "    if i==0:\n",
    "        A[i,:] = [2+2*r if j==0 else (-r) if j==1 else 0 for j in range(N-2)]\n",
    "        B[i,:] = [2-2*r if j==0 else r if j==1 else 0 for j in range(N-2)]\n",
    "        b[i] = 0. #boundary condition at i=1\n",
    "    elif i==N-3:\n",
    "        A[i,:] = [-r if j==N-4 else 2+2*r if j==N-3 else 0 for j in range(N-2)]\n",
    "        B[i,:] = [r if j==N-4 else 2-2*r if j==N-3 else 0 for j in range(N-2)]\n",
    "        b[i] = 0. #boundary condition at i=N\n",
    "    else:\n",
    "        A[i,:] = [-r if j==i-1 or j==i+1 else 2+2*r if j==i else 0 for j in range(N-2)]\n",
    "        B[i,:] = [r if j==i-1 or j==i+1 else 2-2*r if j==i else 0 for j in range(N-2)]\n",
    "\n",
    "#initialize grid\n",
    "x = np.linspace(0,1,N)\n",
    "#initial condition\n",
    "u = np.asarray([2*xx if xx<=0.5 else 2*(1-xx) for xx in x])\n",
    "#evaluate right hand side at t=0\n",
    "bb = B.dot(u[1:-1]) + b\n",
    "\n",
    "fig = plt.figure()\n",
    "plt.plot(x,u,linewidth=2)\n",
    "filename = 'foo0000.png';\n",
    "fig.set_tight_layout(True);\n",
    "plt.xlabel(\"x\")\n",
    "plt.ylabel(\"u\")\n",
    "plt.title(\"t = 0\")\n",
    "plt.savefig(filename,dpi=200,bbox_to_inches='tihght')\n",
    "plt.clf()\n",
    "\n",
    "c = 0\n",
    "for j in range(nsteps):\n",
    "    #print(j)\n",
    "    #find solution inside domain\n",
    "    u[1:-1] = np.linalg.solve(A,bb)\n",
    "    #update right hand side\n",
    "    bb = B.dot(u[1:-1]) + b\n",
    "    if(j%nplot==0): #plot results every nplot timesteps\n",
    "        plt.plot(x,u,linewidth=2)\n",
    "        plt.ylim([0,1])\n",
    "        filename = f'foo{str(c+1).zfill(4)}.png';\n",
    "        plt.xlabel(\"x\")\n",
    "        plt.ylabel(\"u\")\n",
    "        plt.title(\"t = %2.2f\"%(dt*(j+1)))\n",
    "        plt.savefig(filename,dpi=200,bbox_to_inches='tihght')\n",
    "        plt.clf()\n",
    "        c += 1\n",
    "\n",
    "cmd = \"ffmpeg -y -i foo%04d.png out.mp4\"\n",
    "subprocess.check_call(cmd)        \n",
    "os.system(\"rm -f *.png\")"
   ]
  },
  {
   "cell_type": "code",
   "execution_count": 4,
   "metadata": {},
   "outputs": [
    {
     "data": {
      "text/html": [
       "\n",
       "    <video alt=\"test\" width=\"620\" controls>\n",
       "        <source src=\"out.mp4\" type=\"video/mp4\">\n",
       "    </video>\n"
      ],
      "text/plain": [
       "<IPython.core.display.HTML object>"
      ]
     },
     "execution_count": 4,
     "metadata": {},
     "output_type": "execute_result"
    }
   ],
   "source": [
    "HTML(\"\"\"\n",
    "    <video alt=\"test\" width=\"620\" controls>\n",
    "        <source src=\"out.mp4\" type=\"video/mp4\">\n",
    "    </video>\n",
    "\"\"\")"
   ]
  }
 ],
 "metadata": {
  "kernelspec": {
   "display_name": "Python 3",
   "language": "python",
   "name": "python3"
  },
  "language_info": {
   "codemirror_mode": {
    "name": "ipython",
    "version": 3
   },
   "file_extension": ".py",
   "mimetype": "text/x-python",
   "name": "python",
   "nbconvert_exporter": "python",
   "pygments_lexer": "ipython3",
   "version": "3.7.2"
  }
 },
 "nbformat": 4,
 "nbformat_minor": 4
}
